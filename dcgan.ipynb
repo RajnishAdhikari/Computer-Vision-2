{
  "cells": [
    {
      "cell_type": "markdown",
      "metadata": {
        "id": "_jQ1tEQCxwRx"
      },
      "source": [
        "##### Copyright 2019 The TensorFlow Authors."
      ]
    },
    {
      "cell_type": "code",
      "execution_count": 1,
      "metadata": {
        "cellView": "form",
        "id": "V_sgB_5dx1f1"
      },
      "outputs": [],
      "source": [
        "#@title Licensed under the Apache License, Version 2.0 (the \"License\");\n",
        "# you may not use this file except in compliance with the License.\n",
        "# You may obtain a copy of the License at\n",
        "#\n",
        "# https://www.apache.org/licenses/LICENSE-2.0\n",
        "#\n",
        "# Unless required by applicable law or agreed to in writing, software\n",
        "# distributed under the License is distributed on an \"AS IS\" BASIS,\n",
        "# WITHOUT WARRANTIES OR CONDITIONS OF ANY KIND, either express or implied.\n",
        "# See the License for the specific language governing permissions and\n",
        "# limitations under the License."
      ]
    },
    {
      "cell_type": "markdown",
      "metadata": {
        "id": "rF2x3qooyBTI"
      },
      "source": [
        "# Deep Convolutional Generative Adversarial Network"
      ]
    },
    {
      "cell_type": "markdown",
      "metadata": {
        "id": "0TD5ZrvEMbhZ"
      },
      "source": [
        "<table class=\"tfo-notebook-buttons\" align=\"left\">\n",
        "  <td>\n",
        "    <a target=\"_blank\" href=\"https://www.tensorflow.org/tutorials/generative/dcgan\">\n",
        "    <img src=\"https://www.tensorflow.org/images/tf_logo_32px.png\" />\n",
        "    View on TensorFlow.org</a>\n",
        "  </td>\n",
        "  <td>\n",
        "    <a target=\"_blank\" href=\"https://colab.research.google.com/github/tensorflow/docs/blob/master/site/en/tutorials/generative/dcgan.ipynb\">\n",
        "    <img src=\"https://www.tensorflow.org/images/colab_logo_32px.png\" />\n",
        "    Run in Google Colab</a>\n",
        "  </td>\n",
        "  <td>\n",
        "    <a target=\"_blank\" href=\"https://github.com/tensorflow/docs/blob/master/site/en/tutorials/generative/dcgan.ipynb\">\n",
        "    <img src=\"https://www.tensorflow.org/images/GitHub-Mark-32px.png\" />\n",
        "    View source on GitHub</a>\n",
        "  </td>\n",
        "  <td>\n",
        "    <a href=\"https://storage.googleapis.com/tensorflow_docs/docs/site/en/tutorials/generative/dcgan.ipynb\"><img src=\"https://www.tensorflow.org/images/download_logo_32px.png\" />Download notebook</a>\n",
        "  </td>\n",
        "</table>"
      ]
    },
    {
      "cell_type": "markdown",
      "metadata": {
        "id": "ITZuApL56Mny"
      },
      "source": [
        "This tutorial demonstrates how to generate images of handwritten digits using a [Deep Convolutional Generative Adversarial Network](https://arxiv.org/pdf/1511.06434.pdf) (DCGAN). The code is written using the [Keras Sequential API](https://www.tensorflow.org/guide/keras) with a `tf.GradientTape` training loop."
      ]
    },
    {
      "cell_type": "markdown",
      "metadata": {
        "id": "2MbKJY38Puy9"
      },
      "source": [
        "## What are GANs?\n",
        "[Generative Adversarial Networks](https://arxiv.org/abs/1406.2661) (GANs) are one of the most interesting ideas in computer science today. Two models are trained simultaneously by an adversarial process. A *generator* (\"the artist\") learns to create images that look real, while a *discriminator* (\"the art critic\") learns to tell real images apart from fakes.\n",
        "\n",
        "![A diagram of a generator and discriminator](https://github.com/tensorflow/docs/blob/master/site/en/tutorials/generative/images/gan1.png?raw=1)\n",
        "\n",
        "During training, the *generator* progressively becomes better at creating images that look real, while the *discriminator* becomes better at telling them apart. The process reaches equilibrium when the *discriminator* can no longer distinguish real images from fakes.\n",
        "\n",
        "![A second diagram of a generator and discriminator](https://github.com/tensorflow/docs/blob/master/site/en/tutorials/generative/images/gan2.png?raw=1)\n",
        "\n",
        "This notebook demonstrates this process on the MNIST dataset. The following animation shows a series of images produced by the *generator* as it was trained for 50 epochs. The images begin as random noise, and increasingly resemble hand written digits over time.\n",
        "\n",
        "![sample output](https://tensorflow.org/images/gan/dcgan.gif)\n",
        "\n",
        "To learn more about GANs, see MIT's [Intro to Deep Learning](http://introtodeeplearning.com/) course."
      ]
    },
    {
      "cell_type": "markdown",
      "metadata": {
        "id": "e1_Y75QXJS6h"
      },
      "source": [
        "### Setup"
      ]
    },
    {
      "cell_type": "code",
      "execution_count": 9,
      "metadata": {
        "id": "WZKbyU2-AiY-"
      },
      "outputs": [],
      "source": [
        "import tensorflow as tf\n",
        "from tensorflow import losses"
      ]
    },
    {
      "cell_type": "code",
      "execution_count": 10,
      "metadata": {
        "id": "wx-zNbLqB4K8"
      },
      "outputs": [
        {
          "data": {
            "text/plain": [
              "'2.15.0'"
            ]
          },
          "execution_count": 10,
          "metadata": {},
          "output_type": "execute_result"
        }
      ],
      "source": [
        "tf.__version__"
      ]
    },
    {
      "cell_type": "code",
      "execution_count": 11,
      "metadata": {
        "id": "YzTlj4YdCip_"
      },
      "outputs": [],
      "source": [
        "# # To generate GIFs\n",
        "# !pip install imageio\n",
        "# !pip install git+https://github.com/tensorflow/docs"
      ]
    },
    {
      "cell_type": "code",
      "execution_count": 12,
      "metadata": {
        "id": "YfIk2es3hJEd"
      },
      "outputs": [],
      "source": [
        "import glob\n",
        "import imageio\n",
        "import matplotlib.pyplot as plt\n",
        "import numpy as np\n",
        "import os\n",
        "import PIL\n",
        "from tensorflow.keras import layers\n",
        "import time\n",
        "\n",
        "from IPython import display"
      ]
    },
    {
      "cell_type": "markdown",
      "metadata": {
        "id": "iYn4MdZnKCey"
      },
      "source": [
        "### Load and prepare the dataset\n",
        "\n",
        "You will use the MNIST dataset to train the generator and the discriminator. The generator will generate handwritten digits resembling the MNIST data."
      ]
    },
    {
      "cell_type": "code",
      "execution_count": 13,
      "metadata": {
        "id": "a4fYMGxGhrna"
      },
      "outputs": [],
      "source": [
        "(train_images, train_labels), (_, _) = tf.keras.datasets.mnist.load_data()"
      ]
    },
    {
      "cell_type": "code",
      "execution_count": 14,
      "metadata": {
        "id": "NFC2ghIdiZYE"
      },
      "outputs": [],
      "source": [
        "train_images = train_images.reshape(train_images.shape[0], 28, 28, 1).astype('float32')\n",
        "train_images = (train_images - 127.5) / 127.5  # Normalizing the images to [-1, 1]"
      ]
    },
    {
      "cell_type": "code",
      "execution_count": 17,
      "metadata": {},
      "outputs": [
        {
          "data": {
            "text/plain": [
              "(60000, 28, 28, 1)"
            ]
          },
          "execution_count": 17,
          "metadata": {},
          "output_type": "execute_result"
        }
      ],
      "source": [
        "train_images.shape"
      ]
    },
    {
      "cell_type": "code",
      "execution_count": 15,
      "metadata": {
        "id": "S4PIDhoDLbsZ"
      },
      "outputs": [],
      "source": [
        "BUFFER_SIZE = 60000\n",
        "BATCH_SIZE = 256"
      ]
    },
    {
      "cell_type": "code",
      "execution_count": 16,
      "metadata": {
        "id": "-yKCCQOoJ7cn"
      },
      "outputs": [],
      "source": [
        "# Batch and shuffle the data\n",
        "train_dataset = tf.data.Dataset.from_tensor_slices(train_images).shuffle(BUFFER_SIZE).batch(BATCH_SIZE)"
      ]
    },
    {
      "cell_type": "code",
      "execution_count": 18,
      "metadata": {},
      "outputs": [
        {
          "data": {
            "text/plain": [
              "<_BatchDataset element_spec=TensorSpec(shape=(None, 28, 28, 1), dtype=tf.float32, name=None)>"
            ]
          },
          "execution_count": 18,
          "metadata": {},
          "output_type": "execute_result"
        }
      ],
      "source": [
        "train_dataset"
      ]
    },
    {
      "cell_type": "markdown",
      "metadata": {
        "id": "THY-sZMiQ4UV"
      },
      "source": [
        "## Create the models\n",
        "\n",
        "Both the generator and discriminator are defined using the [Keras Sequential API](https://www.tensorflow.org/guide/keras#sequential_model)."
      ]
    },
    {
      "cell_type": "markdown",
      "metadata": {
        "id": "-tEyxE-GMC48"
      },
      "source": [
        "### The Generator\n",
        "\n",
        "The generator uses `tf.keras.layers.Conv2DTranspose` (upsampling) layers to produce an image from a seed (random noise). Start with a `Dense` layer that takes this seed as input, then upsample several times until you reach the desired image size of 28x28x1. Notice the `tf.keras.layers.LeakyReLU` activation for each layer, except the output layer which uses tanh."
      ]
    },
    {
      "cell_type": "code",
      "execution_count": 19,
      "metadata": {
        "id": "6bpTcDqoLWjY"
      },
      "outputs": [],
      "source": [
        "def make_generator_model():\n",
        "    model = tf.keras.Sequential()\n",
        "    model.add(layers.Dense(7*7*256, use_bias=False, input_shape=(100,)))\n",
        "    model.add(layers.BatchNormalization())\n",
        "    model.add(layers.LeakyReLU())\n",
        "\n",
        "    model.add(layers.Reshape((7, 7, 256)))\n",
        "    assert model.output_shape == (None, 7, 7, 256)  # Note: None is the batch size\n",
        "\n",
        "    model.add(layers.Conv2DTranspose(128, (5, 5), strides=(1, 1), padding='same', use_bias=False))\n",
        "    assert model.output_shape == (None, 7, 7, 128)\n",
        "    model.add(layers.BatchNormalization())\n",
        "    model.add(layers.LeakyReLU())\n",
        "\n",
        "    model.add(layers.Conv2DTranspose(64, (5, 5), strides=(2, 2), padding='same', use_bias=False))\n",
        "    assert model.output_shape == (None, 14, 14, 64)\n",
        "    model.add(layers.BatchNormalization())\n",
        "    model.add(layers.LeakyReLU())\n",
        "\n",
        "    model.add(layers.Conv2DTranspose(1, (5, 5), strides=(2, 2), padding='same', use_bias=False, activation='tanh'))\n",
        "    assert model.output_shape == (None, 28, 28, 1)\n",
        "\n",
        "    return model"
      ]
    },
    {
      "cell_type": "markdown",
      "metadata": {
        "id": "GyWgG09LCSJl"
      },
      "source": [
        "Use the (as yet untrained) generator to create an image."
      ]
    },
    {
      "cell_type": "code",
      "execution_count": 20,
      "metadata": {
        "id": "gl7jcC7TdPTG"
      },
      "outputs": [
        {
          "name": "stdout",
          "output_type": "stream",
          "text": [
            "WARNING:tensorflow:From c:\\Users\\PC\\AppData\\Local\\Programs\\Python\\Python311\\Lib\\site-packages\\keras\\src\\backend.py:873: The name tf.get_default_graph is deprecated. Please use tf.compat.v1.get_default_graph instead.\n",
            "\n",
            "WARNING:tensorflow:From c:\\Users\\PC\\AppData\\Local\\Programs\\Python\\Python311\\Lib\\site-packages\\keras\\src\\layers\\normalization\\batch_normalization.py:979: The name tf.nn.fused_batch_norm is deprecated. Please use tf.compat.v1.nn.fused_batch_norm instead.\n",
            "\n"
          ]
        },
        {
          "data": {
            "text/plain": [
              "<matplotlib.image.AxesImage at 0x1bc0b547690>"
            ]
          },
          "execution_count": 20,
          "metadata": {},
          "output_type": "execute_result"
        },
        {
          "data": {
            "image/png": "[encoded data removed]",
            "text/plain": [
              "<Figure size 640x480 with 1 Axes>"
            ]
          },
          "metadata": {},
          "output_type": "display_data"
        }
      ],
      "source": [
        "generator = make_generator_model()\n",
        "\n",
        "noise = tf.random.normal([1, 100])\n",
        "generated_image = generator(noise, training=False)\n",
        "\n",
        "plt.imshow(generated_image[0, :, :, 0], cmap='gray')"
      ]
    },
    {
      "cell_type": "code",
      "execution_count": 24,
      "metadata": {},
      "outputs": [
        {
          "name": "stdout",
          "output_type": "stream",
          "text": [
            "Model: \"sequential\"\n",
            "_________________________________________________________________\n",
            " Layer (type)                Output Shape              Param #   \n",
            "=================================================================\n",
            " dense (Dense)               (None, 12544)             1254400   \n",
            "                                                                 \n",
            " batch_normalization (Batch  (None, 12544)             50176     \n",
            " Normalization)                                                  \n",
            "                                                                 \n",
            " leaky_re_lu (LeakyReLU)     (None, 12544)             0         \n",
            "                                                                 \n",
            " reshape (Reshape)           (None, 7, 7, 256)         0         \n",
            "                                                                 \n",
            " conv2d_transpose (Conv2DTr  (None, 7, 7, 128)         819200    \n",
            " anspose)                                                        \n",
            "                                                                 \n",
            " batch_normalization_1 (Bat  (None, 7, 7, 128)         512       \n",
            " chNormalization)                                                \n",
            "                                                                 \n",
            " leaky_re_lu_1 (LeakyReLU)   (None, 7, 7, 128)         0         \n",
            "                                                                 \n",
            " conv2d_transpose_1 (Conv2D  (None, 14, 14, 64)        204800    \n",
            " Transpose)                                                      \n",
            "                                                                 \n",
            " batch_normalization_2 (Bat  (None, 14, 14, 64)        256       \n",
            " chNormalization)                                                \n",
            "                                                                 \n",
            " leaky_re_lu_2 (LeakyReLU)   (None, 14, 14, 64)        0         \n",
            "                                                                 \n",
            " conv2d_transpose_2 (Conv2D  (None, 28, 28, 1)         1600      \n",
            " Transpose)                                                      \n",
            "                                                                 \n",
            "=================================================================\n",
            "Total params: 2330944 (8.89 MB)\n",
            "Trainable params: 2305472 (8.79 MB)\n",
            "Non-trainable params: 25472 (99.50 KB)\n",
            "_________________________________________________________________\n"
          ]
        }
      ],
      "source": [
        "generator.summary()"
      ]
    },
    {
      "cell_type": "markdown",
      "metadata": {
        "id": "D0IKnaCtg6WE"
      },
      "source": [
        "### The Discriminator\n",
        "\n",
        "The discriminator is a CNN-based image classifier."
      ]
    },
    {
      "cell_type": "code",
      "execution_count": 25,
      "metadata": {
        "id": "dw2tPLmk2pEP"
      },
      "outputs": [],
      "source": [
        "def make_discriminator_model():\n",
        "    model = tf.keras.Sequential()\n",
        "    model.add(layers.Conv2D(64, (5, 5), strides=(2, 2), padding='same',\n",
        "                                     input_shape=[28, 28, 1]))\n",
        "    model.add(layers.LeakyReLU())\n",
        "    model.add(layers.Dropout(0.3))\n",
        "\n",
        "    model.add(layers.Conv2D(128, (5, 5), strides=(2, 2), padding='same'))\n",
        "    model.add(layers.LeakyReLU())\n",
        "    model.add(layers.Dropout(0.3))\n",
        "\n",
        "    model.add(layers.Flatten())\n",
        "    model.add(layers.Dense(1))\n",
        "\n",
        "    return model"
      ]
    },
    {
      "cell_type": "markdown",
      "metadata": {
        "id": "QhPneagzCaQv"
      },
      "source": [
        "Use the (as yet untrained) discriminator to classify the generated images as real or fake. The model will be trained to output positive values for real images, and negative values for fake images."
      ]
    },
    {
      "cell_type": "code",
      "execution_count": 26,
      "metadata": {
        "id": "gDkA05NE6QMs"
      },
      "outputs": [
        {
          "name": "stdout",
          "output_type": "stream",
          "text": [
            "tf.Tensor([[0.00124901]], shape=(1, 1), dtype=float32)\n"
          ]
        }
      ],
      "source": [
        "discriminator = make_discriminator_model()\n",
        "decision = discriminator(generated_image)\n",
        "print (decision)"
      ]
    },
    {
      "cell_type": "markdown",
      "metadata": {
        "id": "0FMYgY_mPfTi"
      },
      "source": [
        "## Define the loss and optimizers\n",
        "\n",
        "Define loss functions and optimizers for both models.\n"
      ]
    },
    {
      "cell_type": "code",
      "execution_count": 27,
      "metadata": {
        "id": "psQfmXxYKU3X"
      },
      "outputs": [],
      "source": [
        "# This method returns a helper function to compute cross entropy loss\n",
        "cross_entropy = tf.keras.losses.BinaryCrossentropy(from_logits=True)"
      ]
    },
    {
      "cell_type": "markdown",
      "metadata": {
        "id": "PKY_iPSPNWoj"
      },
      "source": [
        "### Discriminator loss\n",
        "\n",
        "This method quantifies how well the discriminator is able to distinguish real images from fakes. It compares the discriminator's predictions on real images to an array of 1s, and the discriminator's predictions on fake (generated) images to an array of 0s."
      ]
    },
    {
      "cell_type": "code",
      "execution_count": 28,
      "metadata": {
        "id": "wkMNfBWlT-PV"
      },
      "outputs": [],
      "source": [
        "def discriminator_loss(real_output, fake_output):\n",
        "    real_loss = cross_entropy(tf.ones_like(real_output), real_output)\n",
        "    fake_loss = cross_entropy(tf.zeros_like(fake_output), fake_output)\n",
        "    total_loss = real_loss + fake_loss\n",
        "    return total_loss"
      ]
    },
    {
      "cell_type": "markdown",
      "metadata": {
        "id": "Jd-3GCUEiKtv"
      },
      "source": [
        "### Generator loss\n",
        "The generator's loss quantifies how well it was able to trick the discriminator. Intuitively, if the generator is performing well, the discriminator will classify the fake images as real (or 1). Here, compare the discriminators decisions on the generated images to an array of 1s."
      ]
    },
    {
      "cell_type": "code",
      "execution_count": 29,
      "metadata": {
        "id": "90BIcCKcDMxz"
      },
      "outputs": [],
      "source": [
        "def generator_loss(fake_output):\n",
        "    return cross_entropy(tf.ones_like(fake_output), fake_output)"
      ]
    },
    {
      "cell_type": "markdown",
      "metadata": {
        "id": "MgIc7i0th_Iu"
      },
      "source": [
        "The discriminator and the generator optimizers are different since you will train two networks separately."
      ]
    },
    {
      "cell_type": "code",
      "execution_count": 30,
      "metadata": {
        "id": "iWCn_PVdEJZ7"
      },
      "outputs": [],
      "source": [
        "generator_optimizer = tf.keras.optimizers.Adam(1e-4)\n",
        "discriminator_optimizer = tf.keras.optimizers.Adam(1e-4)"
      ]
    },
    {
      "cell_type": "markdown",
      "metadata": {
        "id": "mWtinsGDPJlV"
      },
      "source": [
        "### Save checkpoints\n",
        "This notebook also demonstrates how to save and restore models, which can be helpful in case a long running training task is interrupted."
      ]
    },
    {
      "cell_type": "code",
      "execution_count": 31,
      "metadata": {
        "id": "CA1w-7s2POEy"
      },
      "outputs": [],
      "source": [
        "checkpoint_dir = './training_checkpoints'\n",
        "checkpoint_prefix = os.path.join(checkpoint_dir, \"ckpt\")\n",
        "checkpoint = tf.train.Checkpoint(generator_optimizer=generator_optimizer,discriminator_optimizer=discriminator_optimizer,generator=generator,\n",
        "                                 discriminator=discriminator)"
      ]
    },
    {
      "cell_type": "markdown",
      "metadata": {
        "id": "Rw1fkAczTQYh"
      },
      "source": [
        "## Define the training loop\n"
      ]
    },
    {
      "cell_type": "code",
      "execution_count": 32,
      "metadata": {
        "id": "NS2GWywBbAWo"
      },
      "outputs": [],
      "source": [
        "EPOCHS = 50\n",
        "noise_dim = 100\n",
        "num_examples_to_generate = 16\n",
        "\n",
        "# You will reuse this seed overtime (so it's easier)\n",
        "# to visualize progress in the animated GIF)\n",
        "# creating seed will help to recreate the randomness\n",
        "seed = tf.random.normal([num_examples_to_generate, noise_dim])"
      ]
    },
    {
      "cell_type": "markdown",
      "metadata": {
        "id": "jylSonrqSWfi"
      },
      "source": [
        "The training loop begins with generator receiving a random seed as input. That seed is used to produce an image. The discriminator is then used to classify real images (drawn from the training set) and fakes images (produced by the generator). The loss is calculated for each of these models, and the gradients are used to update the generator and discriminator."
      ]
    },
    {
      "cell_type": "code",
      "execution_count": 35,
      "metadata": {},
      "outputs": [
        {
          "data": {
            "text/plain": [
              "[<tf.Variable 'dense/kernel:0' shape=(100, 12544) dtype=float32, numpy=\n",
              " array([[-0.01205799,  0.00267444, -0.01551851, ..., -0.02083272,\n",
              "          0.01484092, -0.01634848],\n",
              "        [ 0.02140173, -0.01220307, -0.01372037, ...,  0.0089093 ,\n",
              "          0.01286916,  0.00921433],\n",
              "        [ 0.00310375,  0.01873508, -0.0124846 , ...,  0.01723104,\n",
              "         -0.0187897 , -0.01837593],\n",
              "        ...,\n",
              "        [ 0.0178513 ,  0.01727552,  0.01074684, ...,  0.02046413,\n",
              "         -0.00041316,  0.01723762],\n",
              "        [-0.00435243, -0.00336785,  0.01245635, ..., -0.01837236,\n",
              "         -0.00182237,  0.01414269],\n",
              "        [-0.01856703,  0.01390689, -0.01659691, ..., -0.01064718,\n",
              "         -0.00369362, -0.01038238]], dtype=float32)>,\n",
              " <tf.Variable 'batch_normalization/gamma:0' shape=(12544,) dtype=float32, numpy=array([1., 1., 1., ..., 1., 1., 1.], dtype=float32)>,\n",
              " <tf.Variable 'batch_normalization/beta:0' shape=(12544,) dtype=float32, numpy=array([0., 0., 0., ..., 0., 0., 0.], dtype=float32)>,\n",
              " <tf.Variable 'conv2d_transpose/kernel:0' shape=(5, 5, 128, 256) dtype=float32, numpy=\n",
              " array([[[[ 2.96244025e-03, -6.66920096e-05,  7.24680908e-03, ...,\n",
              "            2.42540799e-03,  8.02690163e-04, -9.67844110e-03],\n",
              "          [-1.16879409e-02, -1.02466224e-02,  1.67019907e-02, ...,\n",
              "            1.64402481e-02, -6.46463595e-03, -4.80678119e-03],\n",
              "          [ 1.25162434e-02,  2.06768513e-03, -2.04118900e-02, ...,\n",
              "           -2.30067670e-02, -2.31635273e-02, -8.09245743e-03],\n",
              "          ...,\n",
              "          [ 1.15271844e-03,  1.49826333e-03, -1.32276183e-02, ...,\n",
              "            1.22293364e-02, -3.61246988e-03, -1.13469306e-02],\n",
              "          [-1.42386854e-02,  1.77033488e-02,  2.31780838e-02, ...,\n",
              "           -1.79140624e-02, -2.27820277e-02, -2.45569944e-02],\n",
              "          [-1.64586119e-02, -6.65139407e-04, -1.67213865e-02, ...,\n",
              "            1.10281352e-02, -2.03367416e-02,  2.37316918e-02]],\n",
              " \n",
              "         [[ 7.42406212e-03, -1.58769451e-03,  1.34269912e-02, ...,\n",
              "           -2.33632382e-02,  4.26542200e-03,  1.31491181e-02],\n",
              "          [-1.89917795e-02,  1.61650777e-03, -1.30132977e-02, ...,\n",
              "           -1.89974420e-02, -3.04845534e-03,  4.04937193e-03],\n",
              "          [-1.40696289e-02,  5.48384711e-03,  1.33356173e-02, ...,\n",
              "            2.26454809e-03,  2.10239720e-02,  2.00856756e-02],\n",
              "          ...,\n",
              "          [-6.79278374e-03,  7.97485746e-03,  1.42254308e-03, ...,\n",
              "           -1.30143343e-02,  8.71215947e-03, -2.24108230e-02],\n",
              "          [ 8.87497701e-03,  2.38981117e-02, -7.32406974e-03, ...,\n",
              "            5.59829548e-03, -2.21013855e-02,  8.16609897e-03],\n",
              "          [-2.42839884e-02,  8.50918330e-03, -1.02747045e-03, ...,\n",
              "            1.30655598e-02, -1.88611802e-02, -2.32214034e-02]],\n",
              " \n",
              "         [[ 1.75578520e-03, -1.43658100e-02,  2.14441363e-02, ...,\n",
              "           -6.39645383e-03, -1.42586892e-02, -1.70094147e-02],\n",
              "          [-1.05788773e-02, -1.78459175e-02, -2.12728027e-02, ...,\n",
              "           -1.28706172e-03,  2.16750447e-02,  1.98624786e-02],\n",
              "          [-8.16806592e-03, -1.62599385e-02, -8.30204412e-03, ...,\n",
              "            4.37447987e-03,  9.21129622e-03, -1.91583335e-02],\n",
              "          ...,\n",
              "          [ 7.25534000e-03,  1.67310107e-02, -7.73415528e-03, ...,\n",
              "            1.38283689e-02,  1.72226150e-02,  1.52931735e-03],\n",
              "          [-1.80467609e-02,  4.97677363e-03,  1.01198871e-02, ...,\n",
              "           -2.38459706e-02, -1.59782656e-02, -1.23156970e-02],\n",
              "          [ 1.41062867e-02, -6.41093776e-03,  2.39779074e-02, ...,\n",
              "           -2.47514602e-02, -1.97220389e-02,  9.58797894e-03]],\n",
              " \n",
              "         [[-1.47639690e-02, -2.15308722e-02, -1.86233595e-03, ...,\n",
              "           -4.42527607e-03, -2.25842949e-02, -2.10982002e-03],\n",
              "          [-2.16492712e-02, -2.20418535e-03, -4.55428287e-03, ...,\n",
              "           -2.11378634e-02, -2.11267471e-02,  9.17313062e-03],\n",
              "          [-1.39176315e-02, -2.26259828e-02, -2.48962175e-02, ...,\n",
              "           -2.40119826e-02, -1.74570642e-03,  2.46436168e-02],\n",
              "          ...,\n",
              "          [-7.75928423e-03,  9.40811820e-03,  1.55340862e-02, ...,\n",
              "            4.92357649e-03,  2.30983365e-02, -2.16736384e-02],\n",
              "          [ 1.73354987e-02,  1.06108747e-03,  1.62420031e-02, ...,\n",
              "           -1.12540089e-03,  7.81122036e-03, -1.61455572e-02],\n",
              "          [-1.32109225e-02,  2.07457971e-02, -2.40742154e-02, ...,\n",
              "            2.03969348e-02, -1.60295852e-02, -5.71245328e-04]],\n",
              " \n",
              "         [[-2.15306338e-02,  2.10935343e-02, -9.90713015e-04, ...,\n",
              "            1.27021503e-02,  2.03740615e-02, -2.40166429e-02],\n",
              "          [-5.30427694e-03, -1.77015848e-02,  1.14159640e-02, ...,\n",
              "            1.47828925e-02,  1.15834344e-02, -2.02385541e-02],\n",
              "          [ 2.10744273e-02, -1.15620559e-02, -2.22807359e-02, ...,\n",
              "           -1.69339553e-02,  1.53660774e-03,  1.89526249e-02],\n",
              "          ...,\n",
              "          [-8.23665224e-03,  1.53298248e-02, -2.12381370e-02, ...,\n",
              "            1.99945215e-02, -1.90681405e-02,  1.50147825e-05],\n",
              "          [-6.57980517e-03,  1.44311022e-02,  1.26536023e-02, ...,\n",
              "           -1.04405349e-02, -8.22621025e-03, -5.26822731e-03],\n",
              "          [ 1.10989530e-02, -2.66009942e-04,  1.25262905e-02, ...,\n",
              "            6.30354322e-03,  2.28244979e-02,  6.53894432e-03]]],\n",
              " \n",
              " \n",
              "        [[[-1.98209472e-02, -1.04585951e-02, -3.22422385e-03, ...,\n",
              "            1.64144114e-03,  2.31919345e-02, -2.34863516e-02],\n",
              "          [ 1.65459272e-02, -2.20910441e-02,  6.03138283e-03, ...,\n",
              "            5.75899519e-03,  3.24062631e-03,  2.02699844e-02],\n",
              "          [-7.19968230e-05, -1.92621052e-02,  4.49570455e-03, ...,\n",
              "           -2.32332107e-02, -1.23903519e-02,  2.05724072e-02],\n",
              "          ...,\n",
              "          [-1.45524088e-02,  8.88587348e-03, -2.43074354e-02, ...,\n",
              "            1.37543101e-02,  2.20521819e-02,  7.12586008e-03],\n",
              "          [ 1.93926115e-02,  1.71712469e-02,  2.47005746e-03, ...,\n",
              "           -1.21301413e-03, -1.41443852e-02,  2.76045874e-03],\n",
              "          [-9.15557146e-03,  5.78756258e-03,  8.89690034e-03, ...,\n",
              "           -8.45559314e-03,  2.48609651e-02,  1.82350744e-02]],\n",
              " \n",
              "         [[-1.71857420e-02, -1.68348663e-02,  1.99545268e-02, ...,\n",
              "           -2.01582722e-02,  3.48527357e-03,  6.30355068e-03],\n",
              "          [-5.72920963e-03,  1.36799384e-02, -8.32921825e-03, ...,\n",
              "            4.43549827e-03, -1.00809699e-02, -3.70338559e-03],\n",
              "          [-7.98327290e-03,  3.28511000e-04, -2.27564014e-03, ...,\n",
              "           -1.22368634e-02,  1.33752283e-02,  1.25064310e-02],\n",
              "          ...,\n",
              "          [-1.77073963e-02,  1.57503057e-02,  3.28793004e-03, ...,\n",
              "            5.57891093e-03, -1.22487247e-02,  2.16273237e-02],\n",
              "          [-1.52846696e-02, -1.24157434e-02, -1.06095849e-02, ...,\n",
              "           -1.52273718e-02,  9.77844186e-03, -8.20981339e-03],\n",
              "          [ 1.15522798e-02, -1.68545432e-02,  2.18428504e-02, ...,\n",
              "           -4.27529775e-03, -8.61846842e-03, -7.79387914e-03]],\n",
              " \n",
              "         [[-2.30123401e-02,  1.96235608e-02, -2.19643060e-02, ...,\n",
              "            2.27855388e-02,  7.70300068e-03,  6.60854764e-03],\n",
              "          [-1.46586001e-02,  1.55603886e-03, -5.70380129e-03, ...,\n",
              "            1.64418872e-02, -2.17337739e-02,  6.47965632e-03],\n",
              "          [ 1.06171612e-02, -1.03055006e-02, -1.65980645e-02, ...,\n",
              "            1.51511487e-02,  1.15145762e-02, -2.44541410e-02],\n",
              "          ...,\n",
              "          [-8.35158862e-03, -4.37785313e-03,  1.98880453e-02, ...,\n",
              "           -2.38096248e-02, -2.46433262e-02,  1.75579265e-03],\n",
              "          [-2.27554087e-02, -8.01374950e-03,  1.54274460e-02, ...,\n",
              "           -1.15205171e-02, -2.34541893e-02,  1.65582541e-02],\n",
              "          [-1.84596833e-02,  1.76161397e-02, -2.92280316e-03, ...,\n",
              "           -1.15710441e-02, -1.22464178e-02, -5.93823195e-03]],\n",
              " \n",
              "         [[-4.47496213e-03, -7.66243972e-03, -7.56350160e-03, ...,\n",
              "            3.90070118e-03,  2.35651750e-02, -1.11871064e-02],\n",
              "          [-2.02944875e-02, -9.56301112e-03,  2.21123863e-02, ...,\n",
              "           -6.92779385e-03,  1.18550658e-03,  2.15300359e-03],\n",
              "          [ 1.56677719e-02, -1.05100218e-02,  2.34514941e-02, ...,\n",
              "           -1.28223421e-02,  2.37362999e-02, -1.07919872e-02],\n",
              "          ...,\n",
              "          [ 1.79308821e-02,  3.77669372e-03,  1.37046222e-02, ...,\n",
              "           -1.89905521e-02, -1.17871705e-02,  1.99433099e-02],\n",
              "          [ 1.95385143e-03, -1.89943668e-02, -2.26676408e-02, ...,\n",
              "           -1.51015520e-02,  1.53944455e-03, -1.15744593e-02],\n",
              "          [-1.53734684e-02,  1.84264202e-02, -1.40200499e-02, ...,\n",
              "            5.46986237e-04,  2.23824941e-03, -9.07829963e-03]],\n",
              " \n",
              "         [[ 1.59100424e-02, -5.53453527e-03, -2.42687389e-03, ...,\n",
              "            1.25008058e-02, -7.43615068e-03,  1.29242558e-02],\n",
              "          [ 1.73362922e-02,  8.03569146e-03, -1.05722127e-02, ...,\n",
              "            2.24132668e-02, -2.19253432e-02,  2.29269136e-02],\n",
              "          [ 1.14366356e-02,  1.59659442e-02, -1.10431677e-02, ...,\n",
              "           -2.12092325e-03, -2.11568363e-02,  3.27026285e-03],\n",
              "          ...,\n",
              "          [-2.05507688e-02, -6.69923425e-03,  4.26408090e-03, ...,\n",
              "           -1.26261888e-02, -1.99444890e-02,  1.52062532e-02],\n",
              "          [ 1.06137227e-02,  5.24255633e-03, -1.89782865e-02, ...,\n",
              "           -2.24627256e-02, -1.74132399e-02, -1.08668329e-02],\n",
              "          [-4.99233045e-03,  2.17457432e-02,  2.65145861e-03, ...,\n",
              "           -2.33004224e-02, -6.77013956e-03, -1.59563012e-02]]],\n",
              " \n",
              " \n",
              "        [[[-2.55195424e-03, -1.31240729e-02, -1.19719030e-02, ...,\n",
              "           -8.61947611e-03,  1.05697867e-02, -1.79134961e-02],\n",
              "          [ 1.72183681e-02,  2.24896129e-02,  6.67026080e-03, ...,\n",
              "           -9.89550352e-03, -9.76770557e-03,  4.40483727e-03],\n",
              "          [ 9.97192971e-03,  2.28525270e-02, -1.09391809e-02, ...,\n",
              "            9.62574035e-04,  2.31952611e-02, -5.08639775e-03],\n",
              "          ...,\n",
              "          [-1.46904709e-02, -1.19663598e-02,  6.90619461e-03, ...,\n",
              "           -1.56401470e-03,  5.05907461e-03,  1.88557152e-02],\n",
              "          [ 1.42720658e-02, -1.11426832e-02, -2.45885607e-02, ...,\n",
              "            1.18470844e-02, -5.27594052e-03, -8.19295645e-03],\n",
              "          [-2.25227512e-03,  2.33515222e-02,  2.35801693e-02, ...,\n",
              "            6.99441880e-04,  1.36243235e-02, -3.48992273e-03]],\n",
              " \n",
              "         [[-1.45342527e-02, -6.33387640e-03,  1.88094135e-02, ...,\n",
              "           -8.92901421e-03, -4.77865338e-03,  1.66508555e-03],\n",
              "          [-2.36442275e-02,  1.31876487e-02,  1.84617583e-02, ...,\n",
              "           -2.05857400e-02,  1.85427982e-02, -1.02557661e-02],\n",
              "          [-1.11278770e-02, -8.25326517e-03, -3.41222808e-03, ...,\n",
              "           -1.65966153e-02,  1.08560044e-02,  1.90323163e-02],\n",
              "          ...,\n",
              "          [-6.04870357e-03, -2.10191198e-02, -1.74374823e-02, ...,\n",
              "            1.95056442e-02, -1.76263936e-02,  1.86398067e-03],\n",
              "          [-1.69586912e-02,  6.51657023e-03, -1.97717659e-02, ...,\n",
              "            3.79516557e-03,  3.37017700e-03, -7.34316744e-03],\n",
              "          [ 1.72202606e-02,  1.44175608e-02, -1.43115697e-02, ...,\n",
              "            1.89903378e-03,  1.09869409e-02, -4.10800800e-04]],\n",
              " \n",
              "         [[-1.78317353e-03, -6.82086311e-03, -1.91373229e-02, ...,\n",
              "           -1.77649744e-02,  1.07032228e-02,  1.54787358e-02],\n",
              "          [ 9.67651606e-04,  2.22362448e-02,  1.36890877e-02, ...,\n",
              "           -3.27608548e-03, -1.67474449e-02, -4.63103689e-03],\n",
              "          [-2.19725072e-02,  7.96140917e-03, -8.70160386e-03, ...,\n",
              "            1.55200791e-02, -1.03713516e-02,  1.21697206e-02],\n",
              "          ...,\n",
              "          [ 2.21236292e-02, -1.25662684e-02,  2.19537970e-02, ...,\n",
              "           -1.04523068e-02,  1.50862336e-03, -1.71196647e-02],\n",
              "          [ 7.01054372e-03,  3.17978300e-03,  1.12264398e-02, ...,\n",
              "            1.77322794e-02,  7.64914043e-03, -1.37390792e-02],\n",
              "          [ 1.31017696e-02,  1.07619409e-02, -1.75454654e-03, ...,\n",
              "            1.64237674e-02,  2.25099754e-02, -1.94140486e-02]],\n",
              " \n",
              "         [[ 1.96062755e-02,  2.35549528e-02,  6.47243299e-03, ...,\n",
              "           -1.18281906e-02,  1.57181565e-02,  1.09393951e-02],\n",
              "          [-9.76012368e-03, -8.40160809e-03, -2.86762789e-03, ...,\n",
              "           -1.66981760e-02, -6.29215315e-03, -1.18725598e-02],\n",
              "          [-1.04029719e-02, -1.94315966e-02,  1.01247430e-03, ...,\n",
              "            2.35273410e-02, -1.78342704e-02, -2.24779136e-02],\n",
              "          ...,\n",
              "          [ 1.14541668e-02, -1.53859435e-02,  7.82204978e-03, ...,\n",
              "           -6.69032335e-04, -1.92838497e-02, -2.20960807e-02],\n",
              "          [-1.14595769e-02,  2.02818532e-02, -2.17822678e-02, ...,\n",
              "            9.23994370e-03,  1.70561429e-02, -1.53612439e-02],\n",
              "          [-7.47502968e-03, -6.35378435e-03,  1.59384254e-02, ...,\n",
              "            6.97397627e-03, -4.16312180e-03, -8.21180269e-03]],\n",
              " \n",
              "         [[-1.35126654e-02,  1.93915386e-02, -9.54721030e-03, ...,\n",
              "            2.06731874e-02,  2.16708053e-02,  1.36462804e-02],\n",
              "          [-1.50079550e-02, -2.17956491e-02, -1.85965057e-02, ...,\n",
              "           -1.36732636e-02,  6.06563129e-03,  2.76094303e-04],\n",
              "          [ 2.19184477e-02, -2.00244244e-02,  9.49178822e-03, ...,\n",
              "            1.50543395e-02, -1.89604945e-02,  1.32309962e-02],\n",
              "          ...,\n",
              "          [-5.23718074e-03, -8.75732303e-03, -1.85569637e-02, ...,\n",
              "           -1.97261572e-04, -1.37096941e-02, -1.14613716e-02],\n",
              "          [ 1.67984720e-02, -4.60112654e-03, -1.11891702e-03, ...,\n",
              "            8.62007961e-04,  1.89062189e-02,  1.68537926e-02],\n",
              "          [ 9.97551717e-03, -1.25715910e-02,  2.71046162e-03, ...,\n",
              "            1.70784649e-02, -1.60572473e-02,  5.08220866e-03]]],\n",
              " \n",
              " \n",
              "        [[[ 1.00871455e-02,  8.83920304e-03, -4.90791164e-03, ...,\n",
              "            1.80271883e-02,  5.01815230e-05, -7.46214762e-04],\n",
              "          [-4.19415906e-03, -8.88466835e-03,  5.04521653e-03, ...,\n",
              "           -1.94446091e-02,  3.10972892e-03, -1.23495981e-03],\n",
              "          [-7.62658753e-03,  7.56824389e-04,  1.54085103e-02, ...,\n",
              "           -1.68907586e-02, -1.13602644e-02, -1.10162497e-02],\n",
              "          ...,\n",
              "          [ 1.16213989e-02, -1.40202045e-03, -1.04604606e-02, ...,\n",
              "            4.80300188e-03, -2.36483160e-02, -1.80138163e-02],\n",
              "          [-1.53763955e-02, -5.12487255e-03, -1.25495195e-02, ...,\n",
              "            5.69730997e-04, -1.06327301e-02,  2.99564563e-03],\n",
              "          [ 2.32133884e-02,  1.50632989e-02, -7.20009208e-03, ...,\n",
              "           -2.06742249e-03, -1.13600018e-02,  8.85143317e-03]],\n",
              " \n",
              "         [[ 1.69328619e-02,  5.12972474e-03,  2.08775457e-02, ...,\n",
              "           -8.17405619e-03,  1.09683108e-02, -1.98864527e-02],\n",
              "          [ 2.41401549e-02,  1.84780005e-02, -1.01418793e-02, ...,\n",
              "            9.63723101e-03,  1.21030044e-02, -3.79869901e-03],\n",
              "          [ 1.00296494e-02, -1.61075778e-02,  6.08175993e-04, ...,\n",
              "            2.02534515e-02, -2.32779514e-02,  8.77718441e-03],\n",
              "          ...,\n",
              "          [ 1.40353274e-02, -1.58687904e-02,  9.89818946e-04, ...,\n",
              "            2.45208666e-03,  5.70810400e-03,  1.53836180e-02],\n",
              "          [-1.65252630e-02, -2.84802355e-03,  1.01815704e-02, ...,\n",
              "           -1.34955170e-02, -1.67588294e-02,  6.13018870e-03],\n",
              "          [ 2.20265146e-02,  1.50326211e-02, -1.43131912e-02, ...,\n",
              "           -1.25335455e-02,  2.30780374e-02, -1.79806240e-02]],\n",
              " \n",
              "         [[-1.21875349e-02, -1.15976101e-02,  2.71649286e-03, ...,\n",
              "           -4.19769250e-03, -2.05637813e-02,  1.59223843e-02],\n",
              "          [-1.94144193e-02,  1.12365019e-02,  5.90353645e-03, ...,\n",
              "            2.16509830e-02,  1.92610566e-02,  1.43059548e-02],\n",
              "          [-7.18522631e-03,  3.68468091e-03,  2.33434457e-02, ...,\n",
              "           -1.62193719e-02, -6.53597713e-03, -2.25670394e-02],\n",
              "          ...,\n",
              "          [ 2.45993007e-02,  2.49548089e-02,  9.14376229e-04, ...,\n",
              "           -1.10845091e-02, -1.88779477e-02,  2.00808775e-02],\n",
              "          [-1.73506681e-02,  2.26285402e-02, -2.36860756e-02, ...,\n",
              "            1.08131189e-02,  1.75714958e-02,  4.19080257e-03],\n",
              "          [-1.10856891e-02, -1.33853853e-02,  2.15188880e-02, ...,\n",
              "           -1.51572227e-02,  8.16396065e-03,  4.50870954e-03]],\n",
              " \n",
              "         [[ 1.10412557e-02, -1.82068888e-02,  8.15601461e-03, ...,\n",
              "            1.39697269e-03, -2.22857893e-02,  2.33017858e-02],\n",
              "          [-1.33579848e-02, -1.70799680e-02,  1.46385785e-02, ...,\n",
              "            3.37249599e-03, -2.33257953e-02,  1.55774225e-02],\n",
              "          [ 1.76494289e-02,  4.17497195e-03, -8.92349519e-03, ...,\n",
              "           -1.89111475e-02,  1.79002527e-02, -2.08180193e-02],\n",
              "          ...,\n",
              "          [ 9.23955813e-04, -2.49494370e-02, -1.10179186e-04, ...,\n",
              "           -6.13760948e-03, -2.11964678e-02, -3.62545252e-03],\n",
              "          [-1.34407645e-02,  2.05165874e-02, -1.43027781e-02, ...,\n",
              "            1.55383665e-02,  4.91812266e-03, -8.26761685e-03],\n",
              "          [ 9.33536328e-03,  1.14193801e-02, -9.33942758e-03, ...,\n",
              "            3.57565843e-03, -1.41559485e-02, -2.20923964e-02]],\n",
              " \n",
              "         [[ 1.81585792e-02,  8.51623528e-03,  2.27577407e-02, ...,\n",
              "           -1.14156846e-02,  8.39194097e-03, -1.28599824e-02],\n",
              "          [-9.40759201e-03, -1.70838274e-03,  8.34652968e-03, ...,\n",
              "            2.39697937e-02,  5.66053391e-03,  7.21052475e-03],\n",
              "          [-1.95340402e-02, -1.01695005e-02, -4.68090177e-03, ...,\n",
              "            2.33906377e-02, -2.36079395e-02, -5.83653525e-03],\n",
              "          ...,\n",
              "          [ 1.19798724e-02,  2.93759070e-03,  3.99587117e-03, ...,\n",
              "            7.62102194e-03, -1.80516765e-03,  7.53267296e-03],\n",
              "          [-5.40171936e-03,  4.00037691e-03,  2.29889918e-02, ...,\n",
              "            1.33197755e-04,  3.86623666e-03, -1.04414290e-02],\n",
              "          [-2.53950432e-03,  1.58774424e-02,  2.08247174e-02, ...,\n",
              "            1.46630351e-02,  8.47861730e-03,  1.20416041e-02]]],\n",
              " \n",
              " \n",
              "        [[[ 1.70027781e-02, -2.22176258e-02, -3.33627500e-03, ...,\n",
              "            1.02858413e-02,  2.32904274e-02,  1.15796868e-02],\n",
              "          [-2.12296844e-03, -9.61132068e-03,  1.04760844e-02, ...,\n",
              "            1.67030264e-02,  3.23588029e-04, -9.10524651e-03],\n",
              "          [-2.35223528e-02,  1.32672619e-02,  9.04366560e-03, ...,\n",
              "           -1.79628134e-02, -2.13533882e-02, -1.99833997e-02],\n",
              "          ...,\n",
              "          [ 4.53429297e-03, -2.04498414e-02, -3.33101116e-03, ...,\n",
              "            2.34072339e-02, -2.08762586e-02, -2.26682257e-02],\n",
              "          [-2.04439107e-02, -6.18969277e-03, -5.28402999e-03, ...,\n",
              "            9.05547850e-03, -1.94148123e-02,  1.62669178e-02],\n",
              "          [ 1.66235697e-02, -8.13569501e-03, -1.07666021e-02, ...,\n",
              "            1.34866312e-03,  1.53728444e-02, -2.44647693e-02]],\n",
              " \n",
              "         [[ 1.35972258e-02, -4.20801714e-03, -3.70714068e-03, ...,\n",
              "            2.08085943e-02,  1.31864715e-02,  1.22884046e-02],\n",
              "          [ 2.02225391e-02, -6.10959530e-03, -1.14499573e-02, ...,\n",
              "            1.20042209e-02, -2.37619411e-02, -7.23161176e-03],\n",
              "          [-1.01521853e-02, -1.49739264e-02,  5.21280803e-03, ...,\n",
              "           -1.76571608e-02,  8.34777392e-03,  1.99327935e-02],\n",
              "          ...,\n",
              "          [-2.43264791e-02,  7.55614601e-03, -2.25715470e-02, ...,\n",
              "           -2.30126977e-02,  2.00425144e-02, -2.05733478e-02],\n",
              "          [-1.85381118e-02,  5.68196736e-03, -1.04707060e-02, ...,\n",
              "            1.73193868e-02,  2.07854975e-02, -1.23401526e-02],\n",
              "          [-8.19844566e-03,  5.82555495e-03,  1.08842198e-02, ...,\n",
              "            1.12619437e-03,  1.71428546e-04, -3.87980416e-03]],\n",
              " \n",
              "         [[-3.30626406e-03, -1.62875652e-03, -2.22207550e-02, ...,\n",
              "            1.89693589e-02,  2.69064866e-03, -1.81793328e-02],\n",
              "          [-2.03178041e-02,  1.33084711e-02, -1.57815218e-03, ...,\n",
              "           -4.34070826e-04,  1.50525291e-02, -2.15227250e-02],\n",
              "          [-1.20128039e-02, -3.69927846e-03, -2.43765768e-02, ...,\n",
              "           -1.61972754e-02, -1.99003890e-03, -3.73197161e-03],\n",
              "          ...,\n",
              "          [-2.00903527e-02, -2.36368366e-02,  1.39313936e-03, ...,\n",
              "           -9.55049973e-03,  3.08587588e-03, -1.87612120e-02],\n",
              "          [ 2.28431057e-02, -1.27744079e-02, -2.40480602e-02, ...,\n",
              "            1.45057011e-02, -5.28526306e-03,  1.75049473e-02],\n",
              "          [-1.09928846e-03, -1.85065679e-02, -4.68146242e-03, ...,\n",
              "            8.84598680e-03, -9.31068137e-03, -1.13530699e-02]],\n",
              " \n",
              "         [[ 8.34376179e-03, -2.37761270e-02,  9.95414890e-03, ...,\n",
              "           -3.34980525e-03, -1.60076097e-02,  5.88029623e-03],\n",
              "          [ 1.07966531e-02,  3.66138853e-03,  2.32263561e-02, ...,\n",
              "           -1.09300977e-02, -2.31808126e-02, -1.74709149e-02],\n",
              "          [ 9.92071070e-03,  4.17594239e-03,  1.47894863e-02, ...,\n",
              "           -3.03656422e-03,  2.28498522e-02,  1.25763360e-02],\n",
              "          ...,\n",
              "          [-1.30887870e-02, -1.99967977e-02, -2.45193485e-02, ...,\n",
              "            1.62329432e-02, -7.43553042e-03, -1.41774714e-02],\n",
              "          [ 2.61926651e-03,  1.49447042e-02, -1.81755368e-02, ...,\n",
              "           -1.73276104e-03,  1.83140505e-02, -6.52043149e-03],\n",
              "          [ 7.91151077e-04,  2.21480671e-02,  1.76839102e-02, ...,\n",
              "            7.66621716e-03,  2.00028773e-02, -5.65743446e-03]],\n",
              " \n",
              "         [[-7.97390938e-03,  6.17558882e-03, -2.29089856e-02, ...,\n",
              "           -1.34641295e-02,  2.46155579e-02,  5.00960276e-03],\n",
              "          [ 2.37348247e-02,  1.12047549e-02, -1.52247371e-02, ...,\n",
              "            6.01936132e-04,  1.42593738e-02,  9.13005322e-04],\n",
              "          [-1.73129737e-02,  3.65643576e-03,  4.31324169e-03, ...,\n",
              "            4.70077619e-04,  1.02564935e-02,  2.34872643e-02],\n",
              "          ...,\n",
              "          [-2.11170502e-02, -9.08877328e-03,  2.03673560e-02, ...,\n",
              "           -1.49216531e-02, -2.37427056e-02, -1.78097561e-03],\n",
              "          [-1.51386503e-02,  1.47899333e-02,  1.21079925e-02, ...,\n",
              "            2.28786301e-02,  2.04954613e-02, -1.76413953e-02],\n",
              "          [-1.64684244e-02, -4.11713496e-04,  1.60498451e-02, ...,\n",
              "           -1.02526490e-02,  4.07835282e-03, -1.24684097e-02]]]],\n",
              "       dtype=float32)>,\n",
              " <tf.Variable 'batch_normalization_1/gamma:0' shape=(128,) dtype=float32, numpy=\n",
              " array([1., 1., 1., 1., 1., 1., 1., 1., 1., 1., 1., 1., 1., 1., 1., 1., 1.,\n",
              "        1., 1., 1., 1., 1., 1., 1., 1., 1., 1., 1., 1., 1., 1., 1., 1., 1.,\n",
              "        1., 1., 1., 1., 1., 1., 1., 1., 1., 1., 1., 1., 1., 1., 1., 1., 1.,\n",
              "        1., 1., 1., 1., 1., 1., 1., 1., 1., 1., 1., 1., 1., 1., 1., 1., 1.,\n",
              "        1., 1., 1., 1., 1., 1., 1., 1., 1., 1., 1., 1., 1., 1., 1., 1., 1.,\n",
              "        1., 1., 1., 1., 1., 1., 1., 1., 1., 1., 1., 1., 1., 1., 1., 1., 1.,\n",
              "        1., 1., 1., 1., 1., 1., 1., 1., 1., 1., 1., 1., 1., 1., 1., 1., 1.,\n",
              "        1., 1., 1., 1., 1., 1., 1., 1., 1.], dtype=float32)>,\n",
              " <tf.Variable 'batch_normalization_1/beta:0' shape=(128,) dtype=float32, numpy=\n",
              " array([0., 0., 0., 0., 0., 0., 0., 0., 0., 0., 0., 0., 0., 0., 0., 0., 0.,\n",
              "        0., 0., 0., 0., 0., 0., 0., 0., 0., 0., 0., 0., 0., 0., 0., 0., 0.,\n",
              "        0., 0., 0., 0., 0., 0., 0., 0., 0., 0., 0., 0., 0., 0., 0., 0., 0.,\n",
              "        0., 0., 0., 0., 0., 0., 0., 0., 0., 0., 0., 0., 0., 0., 0., 0., 0.,\n",
              "        0., 0., 0., 0., 0., 0., 0., 0., 0., 0., 0., 0., 0., 0., 0., 0., 0.,\n",
              "        0., 0., 0., 0., 0., 0., 0., 0., 0., 0., 0., 0., 0., 0., 0., 0., 0.,\n",
              "        0., 0., 0., 0., 0., 0., 0., 0., 0., 0., 0., 0., 0., 0., 0., 0., 0.,\n",
              "        0., 0., 0., 0., 0., 0., 0., 0., 0.], dtype=float32)>,\n",
              " <tf.Variable 'conv2d_transpose_1/kernel:0' shape=(5, 5, 64, 128) dtype=float32, numpy=\n",
              " array([[[[ 7.20953941e-03,  3.08545865e-02, -3.10243629e-02, ...,\n",
              "           -2.51981094e-02, -2.17732396e-02, -2.12195814e-02],\n",
              "          [-1.93186067e-02, -1.32528488e-02, -2.26771086e-03, ...,\n",
              "           -1.20327063e-02, -1.48724597e-02, -8.76346044e-03],\n",
              "          [ 5.32675534e-03,  3.39565463e-02,  3.12028341e-02, ...,\n",
              "           -2.84861960e-02, -1.88072827e-02,  7.33591244e-03],\n",
              "          ...,\n",
              "          [-3.30810286e-02, -1.72280222e-02,  2.49867104e-02, ...,\n",
              "           -3.17099765e-02,  2.19035745e-02, -3.13532017e-02],\n",
              "          [-4.96274978e-03, -3.36058177e-02,  2.81883292e-02, ...,\n",
              "           -1.09342337e-02, -1.57141928e-02, -1.85944661e-02],\n",
              "          [ 2.13729106e-02, -2.50253156e-02, -3.48455310e-02, ...,\n",
              "            3.36825065e-02,  2.55843960e-02,  3.05302404e-02]],\n",
              " \n",
              "         [[-2.99063176e-02, -1.57001056e-02,  1.02225170e-02, ...,\n",
              "            3.33173908e-02, -8.52916390e-04,  2.91153230e-02],\n",
              "          [ 5.21758571e-03,  6.86672330e-03, -1.61520131e-02, ...,\n",
              "            4.62190807e-03, -1.67754330e-02, -9.94041003e-03],\n",
              "          [ 2.67930888e-02,  2.66326442e-02,  3.11246030e-02, ...,\n",
              "           -6.35994226e-03, -3.08932289e-02,  7.74557889e-03],\n",
              "          ...,\n",
              "          [ 2.72543021e-02, -1.32492594e-02,  9.54411179e-03, ...,\n",
              "           -1.33752692e-02, -1.63613819e-02,  3.37790512e-02],\n",
              "          [-3.58077884e-03, -2.17341185e-02, -1.15000214e-02, ...,\n",
              "           -1.42251700e-03,  2.60542743e-02, -1.46271661e-02],\n",
              "          [-1.26289502e-02,  7.11608678e-04, -2.52322331e-02, ...,\n",
              "           -2.83681601e-02, -4.80058603e-03,  8.94699246e-03]],\n",
              " \n",
              "         [[ 2.34835185e-02,  3.41865830e-02, -1.73239410e-03, ...,\n",
              "           -1.57156661e-02,  2.72706933e-02, -3.44418325e-02],\n",
              "          [-3.40810493e-02, -1.84763614e-02,  1.20246485e-02, ...,\n",
              "           -2.44949572e-02,  3.49876247e-02, -1.98024511e-03],\n",
              "          [-3.37099694e-02,  1.46814324e-02,  9.51782241e-03, ...,\n",
              "           -6.01705350e-03,  2.26015858e-02,  9.02483612e-03],\n",
              "          ...,\n",
              "          [-3.44925374e-02,  1.14403330e-02, -6.95145689e-03, ...,\n",
              "           -2.85505541e-02, -2.64511611e-02,  2.34573111e-02],\n",
              "          [ 1.75649785e-02,  2.26943754e-02, -7.67167844e-03, ...,\n",
              "            3.31095606e-03, -2.12264769e-02, -3.40472981e-02],\n",
              "          [-5.51422499e-03,  2.82394700e-02, -3.16014066e-02, ...,\n",
              "            1.80235542e-02, -3.01883817e-02,  7.48485327e-04]],\n",
              " \n",
              "         [[-1.47552155e-02, -1.30813718e-02,  2.47589722e-02, ...,\n",
              "           -3.10871284e-02, -1.34631451e-02,  3.22864465e-02],\n",
              "          [-2.66616084e-02, -6.92427158e-03,  4.01817262e-03, ...,\n",
              "           -1.80675536e-02,  2.94826552e-03, -3.26153636e-02],\n",
              "          [-1.08218361e-02, -6.25153258e-03, -7.26331770e-03, ...,\n",
              "            2.98218690e-02,  4.07118350e-03,  2.28559002e-02],\n",
              "          ...,\n",
              "          [-2.16498412e-02, -2.56308820e-02,  8.29861313e-03, ...,\n",
              "           -3.27489972e-02,  2.16169581e-02, -2.00808235e-02],\n",
              "          [ 1.73540153e-02, -1.94797255e-02, -2.92270966e-02, ...,\n",
              "           -1.41505934e-02, -1.29098073e-02,  2.40920000e-02],\n",
              "          [-3.11016701e-02,  9.97978449e-03,  2.73584761e-02, ...,\n",
              "            3.41249742e-02, -3.34960334e-02,  1.79225169e-02]],\n",
              " \n",
              "         [[-2.09971406e-02, -1.18800085e-02, -7.77650625e-03, ...,\n",
              "            6.72818720e-03,  7.39718601e-03, -9.79199447e-03],\n",
              "          [-4.67471778e-03, -3.77140939e-03,  3.07785831e-02, ...,\n",
              "           -3.66107002e-03,  4.49627638e-03,  1.16844065e-02],\n",
              "          [ 8.45318288e-03, -2.78461035e-02,  2.26833746e-02, ...,\n",
              "            3.26425470e-02,  4.69483063e-03, -2.92588994e-02],\n",
              "          ...,\n",
              "          [-1.81205925e-02, -3.83621454e-03,  3.43260206e-02, ...,\n",
              "            7.94168934e-03,  1.72740035e-02, -3.39819863e-02],\n",
              "          [ 1.68553591e-02, -2.67801508e-02, -8.41098651e-03, ...,\n",
              "           -3.03168874e-02, -3.43957990e-02, -3.25208381e-02],\n",
              "          [ 3.16468738e-02,  2.14817375e-03, -3.38843055e-02, ...,\n",
              "           -1.77568048e-02,  2.81613655e-02,  3.27595696e-03]]],\n",
              " \n",
              " \n",
              "        [[[ 1.72894709e-02, -1.94379501e-02,  1.02090277e-02, ...,\n",
              "            2.34296918e-03, -1.43938493e-02, -1.11222584e-02],\n",
              "          [ 2.77753584e-02,  5.15659899e-03, -1.65397972e-02, ...,\n",
              "           -5.66649996e-03,  2.50285007e-02,  3.51800434e-02],\n",
              "          [-2.31177751e-02,  2.30001248e-02, -1.61644053e-02, ...,\n",
              "            2.39404887e-02, -2.38464177e-02, -2.86918469e-02],\n",
              "          ...,\n",
              "          [ 7.66065344e-03, -2.66810302e-02,  1.52175166e-02, ...,\n",
              "            3.31451111e-02, -1.79110039e-02,  3.18182372e-02],\n",
              "          [-2.18911413e-02, -1.09319575e-02, -3.08625400e-03, ...,\n",
              "           -1.16275400e-02,  2.58345269e-02, -8.70355219e-03],\n",
              "          [ 3.59436870e-03,  1.47576183e-02, -3.32869403e-02, ...,\n",
              "            2.52047256e-02,  2.20216699e-02, -2.90548578e-02]],\n",
              " \n",
              "         [[-3.44035216e-02, -2.89369989e-02, -2.58285515e-02, ...,\n",
              "           -1.34186223e-02, -1.14071202e-02,  2.39175111e-02],\n",
              "          [-7.25129060e-03,  3.98228690e-03,  3.91811505e-03, ...,\n",
              "            2.91952081e-02,  3.26634683e-02, -3.42680514e-02],\n",
              "          [ 5.64522669e-03,  3.13367136e-02,  1.40213147e-02, ...,\n",
              "            2.65948549e-02, -6.44325092e-03,  1.81540884e-02],\n",
              "          ...,\n",
              "          [ 8.59770551e-03,  2.20973901e-02,  1.11669675e-02, ...,\n",
              "           -2.48006471e-02,  1.33116357e-02,  1.28418766e-02],\n",
              "          [-9.05335508e-03,  2.59072557e-02,  2.48009712e-03, ...,\n",
              "            2.53423937e-02,  2.63982154e-02,  8.56839493e-03],\n",
              "          [-1.50412340e-02,  5.82859665e-03,  3.71184945e-03, ...,\n",
              "            8.14799592e-03, -3.44597213e-02,  3.00569423e-02]],\n",
              " \n",
              "         [[-2.21862458e-02, -1.32069942e-02,  6.73570856e-03, ...,\n",
              "           -8.84048641e-04,  1.47893801e-02,  3.43544595e-02],\n",
              "          [ 8.87138769e-03, -1.55034401e-02,  2.11673975e-03, ...,\n",
              "            5.15947491e-03,  2.35533975e-02, -1.36955343e-02],\n",
              "          [ 2.61865221e-02, -3.06375064e-02,  2.57612094e-02, ...,\n",
              "           -3.07760350e-02, -1.35540385e-02, -2.57141553e-02],\n",
              "          ...,\n",
              "          [-2.72627156e-02,  6.82313740e-03, -7.73385167e-04, ...,\n",
              "            2.48942748e-02,  2.11813711e-02,  2.15680674e-02],\n",
              "          [ 2.48500258e-02, -1.91023182e-02, -3.03336792e-02, ...,\n",
              "            2.21434757e-02, -3.43753025e-03, -3.24481167e-02],\n",
              "          [ 1.98881291e-02, -2.43929196e-02,  4.46993858e-04, ...,\n",
              "           -3.34025547e-03,  1.96186155e-02, -3.21402624e-02]],\n",
              " \n",
              "         [[-4.99250554e-03, -3.41751799e-02,  5.64046204e-03, ...,\n",
              "            1.32484734e-02, -9.89068300e-04, -2.56397091e-02],\n",
              "          [ 1.28507763e-02,  1.11134425e-02, -2.64155380e-02, ...,\n",
              "           -1.96044892e-02,  2.97537446e-03,  3.51510830e-02],\n",
              "          [-7.83276372e-03, -1.79689396e-02, -1.53282862e-02, ...,\n",
              "            8.18660483e-03,  3.05125974e-02, -2.49558240e-02],\n",
              "          ...,\n",
              "          [ 3.26026715e-02,  3.09306383e-03,  4.77286056e-03, ...,\n",
              "           -2.35404149e-02,  1.83883421e-02,  7.93039426e-03],\n",
              "          [ 2.50301212e-02, -4.27268818e-03,  8.64710659e-04, ...,\n",
              "           -2.53186487e-02, -2.70016920e-02,  1.83917396e-02],\n",
              "          [ 5.54871559e-03,  1.49232149e-02, -3.89473140e-03, ...,\n",
              "           -2.99413502e-02, -2.60436349e-02, -3.51880603e-02]],\n",
              " \n",
              "         [[-1.43237580e-02, -1.56627893e-02,  5.54966927e-03, ...,\n",
              "           -2.12684721e-02, -3.14192548e-02, -1.41073763e-02],\n",
              "          [-6.47645444e-04,  3.07014845e-02, -3.91636044e-04, ...,\n",
              "            3.36313285e-02, -2.07188018e-02,  1.68180428e-02],\n",
              "          [-8.69430602e-03,  9.45759192e-03, -1.55604817e-02, ...,\n",
              "           -3.03621273e-02, -2.35789977e-02,  6.97188079e-03],\n",
              "          ...,\n",
              "          [ 1.45481639e-02,  1.89865828e-02, -9.31769609e-05, ...,\n",
              "           -3.04270834e-02, -2.30533481e-02, -3.39293182e-02],\n",
              "          [ 1.74238607e-02,  1.78952739e-02,  1.62425376e-02, ...,\n",
              "           -2.02923417e-02, -3.58578563e-03, -1.59455705e-02],\n",
              "          [-3.52654494e-02,  6.31870702e-03,  3.10747810e-02, ...,\n",
              "            6.92961738e-03, -2.57277116e-02, -8.24330002e-03]]],\n",
              " \n",
              " \n",
              "        [[[-2.31644064e-02, -1.92879587e-02, -1.81845538e-02, ...,\n",
              "            1.18046403e-02,  1.83361731e-02,  2.61336267e-02],\n",
              "          [ 2.88104676e-02, -2.37491727e-03,  5.33144176e-03, ...,\n",
              "            4.15213406e-04,  2.21610069e-02, -1.22733731e-02],\n",
              "          [ 3.36113833e-02, -2.83268392e-02, -7.62936473e-03, ...,\n",
              "           -1.46343056e-02,  3.42078097e-02,  2.77211405e-02],\n",
              "          ...,\n",
              "          [ 2.94096395e-03,  1.42560042e-02,  2.15205848e-02, ...,\n",
              "           -6.87522255e-03,  2.45955549e-02,  3.38302217e-02],\n",
              "          [-2.56528407e-02, -2.65413038e-02,  8.36404413e-03, ...,\n",
              "            2.82556079e-02, -1.57463588e-02, -7.72362947e-03],\n",
              "          [-2.10935622e-02, -2.96703037e-02,  8.97862017e-03, ...,\n",
              "           -1.34625882e-02,  1.31787062e-02,  7.52423331e-03]],\n",
              " \n",
              "         [[ 1.08348839e-02, -3.51654440e-02, -2.50183120e-02, ...,\n",
              "           -2.36684829e-03,  2.40847655e-02,  3.60907614e-03],\n",
              "          [ 1.47928782e-02,  1.54938549e-03,  7.67976418e-03, ...,\n",
              "           -2.49098241e-02,  1.69714652e-02,  2.79514678e-02],\n",
              "          [ 1.89263560e-02,  2.28690766e-02,  1.23974122e-02, ...,\n",
              "            2.67400704e-02,  8.24217871e-03, -3.50482911e-02],\n",
              "          ...,\n",
              "          [ 9.83101502e-03, -3.20185572e-02,  2.06906237e-02, ...,\n",
              "           -3.13638411e-02, -5.55498898e-03, -2.29480676e-02],\n",
              "          [-1.29400697e-02,  3.23317945e-03,  1.83112919e-04, ...,\n",
              "            1.53795294e-02,  1.99743547e-02, -1.80449709e-02],\n",
              "          [-1.33405663e-02, -1.92313548e-02,  2.89183669e-02, ...,\n",
              "           -2.05057412e-02, -2.56783143e-03,  2.66237855e-02]],\n",
              " \n",
              "         [[ 6.01713732e-03, -2.29771063e-03, -3.23963277e-02, ...,\n",
              "            2.86229327e-03, -1.07098427e-02, -1.43922810e-02],\n",
              "          [ 4.62641940e-03,  1.40114017e-02,  3.53423841e-02, ...,\n",
              "            1.37945376e-02,  2.65004821e-02,  3.09669711e-02],\n",
              "          [ 2.94614397e-02,  3.37829255e-02,  3.41050439e-02, ...,\n",
              "            1.57514587e-03, -2.94559021e-02,  2.42885724e-02],\n",
              "          ...,\n",
              "          [-2.86362395e-02,  1.19687952e-02, -5.25214709e-03, ...,\n",
              "           -1.02617051e-02,  4.14295122e-03, -3.19225714e-02],\n",
              "          [ 2.05288976e-02,  4.12864611e-03, -7.84107670e-03, ...,\n",
              "           -9.71865095e-03, -3.24334018e-02, -1.27483159e-03],\n",
              "          [ 2.83030458e-02,  1.75618082e-02,  7.02544302e-03, ...,\n",
              "           -3.05062197e-02,  3.33157666e-02, -5.85013442e-03]],\n",
              " \n",
              "         [[ 3.20512690e-02, -1.15245003e-02,  2.48035155e-02, ...,\n",
              "           -1.65630709e-02,  1.15084089e-02, -1.53052919e-02],\n",
              "          [ 2.42853537e-03, -2.95815337e-02, -2.06930004e-02, ...,\n",
              "            3.20893861e-02,  1.52518563e-02, -4.91286442e-03],\n",
              "          [ 1.19317733e-02,  1.12889335e-03,  7.54179806e-03, ...,\n",
              "           -2.43913420e-02,  3.02772410e-02,  3.09513845e-02],\n",
              "          ...,\n",
              "          [ 3.07167955e-02, -2.60853432e-02, -3.41391191e-03, ...,\n",
              "           -3.50694433e-02,  6.35456666e-03, -2.25725286e-02],\n",
              "          [-3.13995555e-02,  1.59534179e-02, -1.88947190e-02, ...,\n",
              "            3.28708775e-02,  3.47880088e-02,  2.94332840e-02],\n",
              "          [ 5.47867641e-03,  1.17368363e-02, -3.43556106e-02, ...,\n",
              "            2.64410190e-02,  3.42592113e-02, -2.17869710e-02]],\n",
              " \n",
              "         [[ 3.22868191e-02,  3.39304544e-02,  3.21143307e-02, ...,\n",
              "           -1.24798343e-03,  2.87181102e-02, -9.31414962e-03],\n",
              "          [ 1.00830346e-02,  3.31389047e-02, -1.44177042e-02, ...,\n",
              "           -1.63119864e-02,  2.84856372e-02,  1.34926811e-02],\n",
              "          [-6.67313673e-03,  3.20560150e-02, -2.47716010e-02, ...,\n",
              "            2.93443538e-02, -1.44923795e-02, -3.15841921e-02],\n",
              "          ...,\n",
              "          [ 3.59585136e-03,  1.49908103e-02, -2.88242809e-02, ...,\n",
              "            1.23126619e-02, -2.57938728e-02, -4.90012020e-03],\n",
              "          [-6.31182827e-03, -8.85017216e-05, -2.32719649e-02, ...,\n",
              "           -2.89508477e-02, -2.02702060e-02,  2.11671181e-02],\n",
              "          [-2.65944675e-02, -3.49222720e-02, -1.19960308e-02, ...,\n",
              "            1.63707286e-02,  3.13881449e-02, -1.50252935e-02]]],\n",
              " \n",
              " \n",
              "        [[[-1.89684257e-02,  2.63084434e-02,  7.81458244e-03, ...,\n",
              "            3.00335176e-02,  3.08700912e-02,  2.71546431e-02],\n",
              "          [ 9.70089808e-03,  2.31240541e-02, -2.58114301e-02, ...,\n",
              "           -2.71034688e-02, -1.73633229e-02,  3.46798189e-02],\n",
              "          [-2.38817874e-02,  3.35282460e-03,  3.47780026e-02, ...,\n",
              "            2.74372883e-02,  1.98533759e-03, -1.96711831e-02],\n",
              "          ...,\n",
              "          [ 6.53304160e-03, -1.50251668e-02, -2.85021961e-04, ...,\n",
              "            8.11631233e-03,  9.33249295e-03, -1.90973878e-02],\n",
              "          [-3.20601091e-03,  1.31676793e-02,  2.16715299e-02, ...,\n",
              "            2.86015384e-02,  2.79716291e-02,  1.16222352e-03],\n",
              "          [-1.23001374e-02, -2.93105096e-03, -2.92791128e-02, ...,\n",
              "           -6.91465475e-03, -2.71053314e-02,  4.98003885e-03]],\n",
              " \n",
              "         [[ 1.47791989e-02, -8.98626447e-03, -6.46872446e-03, ...,\n",
              "            1.04196705e-02, -2.41186619e-02,  2.55951658e-02],\n",
              "          [-3.11552733e-02,  5.10704517e-03, -3.30829360e-02, ...,\n",
              "           -1.52412783e-02,  1.68402530e-02,  2.04895474e-02],\n",
              "          [ 8.67937505e-03,  2.35362276e-02,  5.48533723e-03, ...,\n",
              "            1.53371133e-02, -4.69769724e-03,  3.27145718e-02],\n",
              "          ...,\n",
              "          [-2.43607014e-02, -2.77654678e-02,  1.17570646e-02, ...,\n",
              "            2.54848860e-02,  2.78542228e-02, -9.44874249e-03],\n",
              "          [ 3.14142741e-02, -1.31442454e-02,  1.15746707e-02, ...,\n",
              "           -1.95395201e-03,  1.04222447e-03,  6.28010929e-03],\n",
              "          [-1.14765950e-02, -3.38656604e-02,  1.45502910e-02, ...,\n",
              "           -3.90188769e-03, -6.85853139e-03,  3.35129537e-02]],\n",
              " \n",
              "         [[ 2.33595371e-02,  2.44868062e-02,  7.17459992e-03, ...,\n",
              "           -4.15736623e-03, -1.96806490e-02,  3.22737508e-02],\n",
              "          [-3.02816555e-03, -2.12040301e-02, -1.78814847e-02, ...,\n",
              "           -2.29147039e-02,  9.14775580e-03,  1.30680278e-02],\n",
              "          [ 1.53512917e-02,  2.82965340e-02,  1.83443762e-02, ...,\n",
              "           -7.20917620e-03,  3.16654705e-02, -7.57974945e-03],\n",
              "          ...,\n",
              "          [ 3.17313187e-02,  2.27035731e-02,  2.62218975e-02, ...,\n",
              "           -3.50321233e-02, -4.14198264e-03,  1.91996284e-02],\n",
              "          [-6.29881397e-03,  2.14045495e-03, -2.58762352e-02, ...,\n",
              "            1.17580518e-02, -1.07194446e-02,  3.39111201e-02],\n",
              "          [-7.03219324e-03,  1.98864862e-02, -6.11343421e-03, ...,\n",
              "            1.54483393e-02,  8.14145803e-03,  3.20863165e-02]],\n",
              " \n",
              "         [[ 3.15924697e-02,  3.96122411e-03,  3.46102752e-02, ...,\n",
              "           -2.81997416e-02, -2.77559012e-02, -3.91637906e-03],\n",
              "          [ 8.59048218e-03,  2.61537731e-04, -3.52045819e-02, ...,\n",
              "           -2.02475116e-03, -6.87096454e-03,  2.59465016e-02],\n",
              "          [-3.42921764e-02, -3.00653651e-03, -2.71969736e-02, ...,\n",
              "            9.35912132e-04,  2.30641142e-02, -3.40152495e-02],\n",
              "          ...,\n",
              "          [ 2.12674439e-02, -2.75058020e-02, -3.40905897e-02, ...,\n",
              "           -2.43164897e-02,  5.78544661e-03,  2.48486698e-02],\n",
              "          [-3.30641195e-02,  5.87113947e-03, -1.39272753e-02, ...,\n",
              "           -2.81488523e-02,  2.60007791e-02,  1.19981132e-02],\n",
              "          [ 1.87629536e-02, -2.08732113e-03, -1.34821963e-02, ...,\n",
              "            3.38240527e-02, -1.73666179e-02, -5.45607880e-03]],\n",
              " \n",
              "         [[-2.50760093e-03, -3.49649675e-02, -2.93569416e-02, ...,\n",
              "           -1.50193926e-02,  3.07005681e-02,  2.55601332e-02],\n",
              "          [ 5.80533966e-03,  8.80915672e-03, -1.07937753e-02, ...,\n",
              "           -3.26457024e-02, -1.32234395e-02, -3.23230028e-03],\n",
              "          [-2.25615725e-02,  7.52529502e-03, -3.22626382e-02, ...,\n",
              "            3.12755071e-02,  1.11787543e-02,  6.26219437e-03],\n",
              "          ...,\n",
              "          [ 3.35964747e-02,  2.43262947e-02,  4.70867008e-03, ...,\n",
              "           -5.07587940e-03,  1.86375566e-02, -2.72703525e-02],\n",
              "          [ 3.25381495e-02, -2.46818438e-02, -5.09225018e-03, ...,\n",
              "           -1.20941065e-02,  2.95960270e-02, -1.54149234e-02],\n",
              "          [ 2.16830038e-02, -6.64991327e-03, -3.44958529e-03, ...,\n",
              "            3.25536616e-02,  6.46698847e-03,  6.47766888e-03]]],\n",
              " \n",
              " \n",
              "        [[[-1.06341485e-02, -1.73330698e-02,  2.10269950e-02, ...,\n",
              "           -8.64147022e-03, -9.72651504e-03, -3.40479128e-02],\n",
              "          [ 3.43472511e-03, -2.93612145e-02, -1.57943293e-02, ...,\n",
              "            2.24073827e-02,  9.94354486e-03, -2.09941119e-02],\n",
              "          [-3.36085223e-02,  1.26941092e-02,  2.49872059e-02, ...,\n",
              "            2.10341178e-02,  3.20407264e-02, -2.13544443e-03],\n",
              "          ...,\n",
              "          [ 2.78086849e-02,  3.18611450e-02, -2.96908543e-02, ...,\n",
              "            1.50012262e-02, -2.40593515e-02,  1.70238391e-02],\n",
              "          [-2.30456442e-02, -2.80264765e-03, -2.92438269e-03, ...,\n",
              "           -3.38212959e-02,  3.39467935e-02, -1.78457107e-02],\n",
              "          [-2.55036652e-02,  2.46272571e-02,  1.43161379e-02, ...,\n",
              "            4.32262197e-03,  2.18650363e-02, -3.23164426e-02]],\n",
              " \n",
              "         [[-3.24020348e-02, -1.82228312e-02, -3.44341621e-03, ...,\n",
              "           -3.98890302e-03,  2.10766941e-02,  2.41065249e-02],\n",
              "          [ 3.74894589e-03,  1.11028552e-02, -1.55096203e-02, ...,\n",
              "            6.09961152e-03,  3.01435217e-03, -2.10122354e-02],\n",
              "          [-9.36659053e-03,  5.69532812e-03, -4.58119437e-03, ...,\n",
              "            7.40412250e-03,  2.13025510e-03, -7.96868838e-03],\n",
              "          ...,\n",
              "          [-1.96965206e-02,  1.68340281e-03,  1.73602626e-02, ...,\n",
              "           -3.48843485e-02, -1.18917245e-02, -3.07740290e-02],\n",
              "          [-2.29367204e-02,  1.41494721e-02,  5.77082112e-03, ...,\n",
              "           -2.31129043e-02, -8.74499977e-03,  2.78512724e-02],\n",
              "          [ 9.68655944e-03, -1.79291349e-02,  3.08437385e-02, ...,\n",
              "            1.27684288e-02,  1.09023452e-02,  2.06868201e-02]],\n",
              " \n",
              "         [[-8.98170471e-03,  5.78796118e-03,  2.56025866e-02, ...,\n",
              "           -2.38717571e-02, -4.66082618e-03, -5.08848950e-03],\n",
              "          [-3.17397229e-02,  5.36111370e-03, -2.80816965e-02, ...,\n",
              "           -2.91854143e-03, -9.33393836e-04, -1.23247262e-02],\n",
              "          [-1.77822448e-02, -1.13192033e-02, -8.25197436e-03, ...,\n",
              "            1.13747679e-02, -1.85916591e-02, -1.09163672e-03],\n",
              "          ...,\n",
              "          [ 1.17781982e-02,  1.97811425e-02,  2.82591097e-02, ...,\n",
              "           -3.35648656e-02,  3.23533826e-02, -6.49620406e-03],\n",
              "          [-5.38362749e-03, -3.45674902e-03, -1.42874867e-02, ...,\n",
              "            2.11463049e-02, -1.70703847e-02, -1.98822841e-03],\n",
              "          [ 1.11445971e-02, -8.65056552e-03,  1.76848844e-03, ...,\n",
              "            3.00207399e-02, -5.52870333e-05,  1.12455115e-02]],\n",
              " \n",
              "         [[ 4.54859063e-03,  2.79495381e-02,  6.23584539e-03, ...,\n",
              "            6.88046217e-04,  8.83790106e-03, -2.99850814e-02],\n",
              "          [ 3.37589793e-02, -2.91315839e-02, -3.88913602e-03, ...,\n",
              "           -9.45620239e-03,  1.43785328e-02,  2.65954472e-02],\n",
              "          [ 3.20965461e-02, -3.50721292e-02,  6.18076697e-03, ...,\n",
              "           -3.45932432e-02,  2.79419012e-02, -2.76311636e-02],\n",
              "          ...,\n",
              "          [ 6.41889125e-03,  2.68340148e-02,  2.00823583e-02, ...,\n",
              "           -6.87837601e-05, -2.94619463e-02,  1.49696581e-02],\n",
              "          [-1.48519259e-02,  3.24499793e-02, -2.31442768e-02, ...,\n",
              "            3.31527628e-02,  2.70688571e-02, -6.16446510e-03],\n",
              "          [ 2.43145935e-02, -8.50843824e-03, -1.43546276e-02, ...,\n",
              "           -6.81767426e-03, -7.84266926e-03, -3.08718421e-02]],\n",
              " \n",
              "         [[ 3.23935561e-02, -3.52432728e-02,  2.49788798e-02, ...,\n",
              "           -7.66807236e-03, -3.33487280e-02, -3.18046547e-02],\n",
              "          [-1.01212040e-02,  1.50297843e-02,  3.13362069e-02, ...,\n",
              "            1.35934725e-02, -1.70125812e-03, -1.24678556e-02],\n",
              "          [-9.13201645e-03, -3.19789648e-02,  8.08533281e-03, ...,\n",
              "            3.01486216e-02,  2.49460228e-02, -3.45283337e-02],\n",
              "          ...,\n",
              "          [ 1.35367848e-02, -2.89972872e-02, -1.73386186e-03, ...,\n",
              "            1.27071589e-02,  1.14284717e-02,  2.73680501e-02],\n",
              "          [-2.97264345e-02,  3.72927263e-03,  1.13336928e-02, ...,\n",
              "            9.98113304e-04,  1.41688772e-02,  2.02339105e-02],\n",
              "          [-2.88849901e-02,  3.15451510e-02,  2.60699168e-02, ...,\n",
              "           -3.44206765e-02,  6.76136464e-04,  1.97266787e-03]]]],\n",
              "       dtype=float32)>,\n",
              " <tf.Variable 'batch_normalization_2/gamma:0' shape=(64,) dtype=float32, numpy=\n",
              " array([1., 1., 1., 1., 1., 1., 1., 1., 1., 1., 1., 1., 1., 1., 1., 1., 1.,\n",
              "        1., 1., 1., 1., 1., 1., 1., 1., 1., 1., 1., 1., 1., 1., 1., 1., 1.,\n",
              "        1., 1., 1., 1., 1., 1., 1., 1., 1., 1., 1., 1., 1., 1., 1., 1., 1.,\n",
              "        1., 1., 1., 1., 1., 1., 1., 1., 1., 1., 1., 1., 1.], dtype=float32)>,\n",
              " <tf.Variable 'batch_normalization_2/beta:0' shape=(64,) dtype=float32, numpy=\n",
              " array([0., 0., 0., 0., 0., 0., 0., 0., 0., 0., 0., 0., 0., 0., 0., 0., 0.,\n",
              "        0., 0., 0., 0., 0., 0., 0., 0., 0., 0., 0., 0., 0., 0., 0., 0., 0.,\n",
              "        0., 0., 0., 0., 0., 0., 0., 0., 0., 0., 0., 0., 0., 0., 0., 0., 0.,\n",
              "        0., 0., 0., 0., 0., 0., 0., 0., 0., 0., 0., 0., 0.], dtype=float32)>,\n",
              " <tf.Variable 'conv2d_transpose_2/kernel:0' shape=(5, 5, 1, 64) dtype=float32, numpy=\n",
              " array([[[[-5.9944697e-02,  3.8087700e-02, -1.5220631e-02, ...,\n",
              "           -4.1514624e-02, -5.8619007e-03,  2.2230219e-02]],\n",
              " \n",
              "         [[-1.9693311e-02,  5.7657752e-02, -5.7039056e-02, ...,\n",
              "           -5.6472354e-02,  4.3192405e-02, -1.3287671e-02]],\n",
              " \n",
              "         [[-2.3048781e-03, -3.7500061e-02,  1.5040766e-02, ...,\n",
              "            2.0401664e-03, -1.4918365e-02,  4.0125865e-02]],\n",
              " \n",
              "         [[ 1.8673953e-02, -5.0900530e-02, -8.8550895e-03, ...,\n",
              "            4.7509681e-02,  4.3156359e-02, -6.2769055e-03]],\n",
              " \n",
              "         [[-7.5175017e-03,  4.0656585e-02,  5.7286944e-02, ...,\n",
              "           -4.3027408e-02,  1.6226094e-02, -3.2954279e-02]]],\n",
              " \n",
              " \n",
              "        [[[-6.0312096e-02,  1.6133998e-02,  4.5465324e-02, ...,\n",
              "            4.0597912e-02, -3.6414888e-02, -3.2912977e-02]],\n",
              " \n",
              "         [[-1.7225634e-02, -5.0858445e-03, -5.7317920e-02, ...,\n",
              "            4.1734662e-02,  2.4448115e-02, -3.3649907e-02]],\n",
              " \n",
              "         [[-4.0878180e-02, -4.1717924e-03, -9.3383603e-03, ...,\n",
              "            1.1636082e-02, -5.6632351e-02,  3.2027774e-03]],\n",
              " \n",
              "         [[ 1.5612688e-02, -4.9634092e-03,  5.4399129e-02, ...,\n",
              "           -1.3290495e-02, -8.8455267e-03, -1.8334743e-02]],\n",
              " \n",
              "         [[ 2.5267128e-02, -5.0146900e-02,  5.6172203e-02, ...,\n",
              "           -3.6521547e-02, -4.5976266e-02, -4.7864169e-03]]],\n",
              " \n",
              " \n",
              "        [[[ 3.0728575e-02,  7.1353652e-03, -3.8372837e-02, ...,\n",
              "            1.5652787e-02,  3.7033446e-03, -3.2456219e-02]],\n",
              " \n",
              "         [[-4.8573557e-02, -3.2419711e-02, -1.3131611e-03, ...,\n",
              "            5.1564537e-03, -2.1879610e-02, -3.5444684e-02]],\n",
              " \n",
              "         [[ 3.1357076e-02,  5.9141703e-03,  5.1662665e-02, ...,\n",
              "            4.7202464e-02,  5.8582421e-02, -1.0470457e-02]],\n",
              " \n",
              "         [[ 2.8446164e-02,  1.9310351e-02, -3.4792274e-02, ...,\n",
              "           -2.0692505e-02, -4.3183755e-02, -5.6970414e-02]],\n",
              " \n",
              "         [[-3.8348980e-02, -1.9885890e-02,  3.2133412e-02, ...,\n",
              "           -3.0326173e-02,  5.5308957e-02, -5.2776672e-02]]],\n",
              " \n",
              " \n",
              "        [[[-4.1760590e-02,  3.4710798e-02, -5.9848558e-02, ...,\n",
              "           -5.0366383e-02, -2.8192054e-02,  2.3171987e-02]],\n",
              " \n",
              "         [[-5.4826848e-02, -1.2461007e-02, -1.8877745e-02, ...,\n",
              "           -2.6296720e-02,  1.2059476e-02,  1.9696470e-02]],\n",
              " \n",
              "         [[ 1.3289902e-02, -2.1158647e-02, -4.1070007e-02, ...,\n",
              "            5.8943342e-02, -3.2764874e-02, -4.9287640e-02]],\n",
              " \n",
              "         [[ 4.1009072e-02,  1.2324940e-02,  2.0733636e-02, ...,\n",
              "           -5.9403565e-02, -9.5220730e-03,  4.1581031e-02]],\n",
              " \n",
              "         [[ 5.5732410e-02,  5.2071933e-02,  3.3493701e-02, ...,\n",
              "            2.3586862e-03,  4.9946744e-02,  2.3727167e-02]]],\n",
              " \n",
              " \n",
              "        [[[ 1.6257126e-02, -5.0980054e-02,  8.3157420e-04, ...,\n",
              "            3.5321195e-02, -1.5728615e-02,  4.6169538e-02]],\n",
              " \n",
              "         [[ 8.0707185e-03,  2.6832335e-03,  3.7003569e-03, ...,\n",
              "            2.0254929e-02, -3.8372070e-02,  4.1032542e-02]],\n",
              " \n",
              "         [[-4.0642645e-02, -2.0503167e-02, -3.7516102e-02, ...,\n",
              "           -1.1005551e-02, -2.2527426e-02,  2.9304553e-02]],\n",
              " \n",
              "         [[-3.2955062e-02,  4.0143136e-02,  5.2876849e-02, ...,\n",
              "           -4.3562047e-02,  2.7260851e-02,  1.7026998e-03]],\n",
              " \n",
              "         [[-8.8661909e-05, -2.5118418e-02, -9.2394650e-04, ...,\n",
              "           -6.0078632e-02, -2.3886301e-03,  3.6966551e-02]]]],\n",
              "       dtype=float32)>]"
            ]
          },
          "execution_count": 35,
          "metadata": {},
          "output_type": "execute_result"
        }
      ],
      "source": [
        "generator.trainable_variables"
      ]
    },
    {
      "cell_type": "code",
      "execution_count": 36,
      "metadata": {
        "id": "3t5ibNo05jCB"
      },
      "outputs": [],
      "source": [
        "# Notice the use of `tf.function`\n",
        "# This annotation causes the function to be \"compiled\".\n",
        "@tf.function\n",
        "def train_step(images):\n",
        "    noise = tf.random.normal([BATCH_SIZE, noise_dim])\n",
        "\n",
        "    with tf.GradientTape() as gen_tape, tf.GradientTape() as disc_tape:\n",
        "      generated_images = generator(noise, training=True)\n",
        "\n",
        "      real_output = discriminator(images, training=True)\n",
        "      fake_output = discriminator(generated_images, training=True)\n",
        "\n",
        "      gen_loss = generator_loss(fake_output)\n",
        "      disc_loss = discriminator_loss(real_output, fake_output)\n",
        "\n",
        "    gradients_of_generator = gen_tape.gradient(gen_loss, generator.trainable_variables)\n",
        "    gradients_of_discriminator = disc_tape.gradient(disc_loss, discriminator.trainable_variables)\n",
        "\n",
        "    generator_optimizer.apply_gradients(zip(gradients_of_generator, generator.trainable_variables))\n",
        "    discriminator_optimizer.apply_gradients(zip(gradients_of_discriminator, discriminator.trainable_variables))"
      ]
    },
    {
      "cell_type": "code",
      "execution_count": 38,
      "metadata": {
        "id": "2M7LmLtGEMQJ"
      },
      "outputs": [],
      "source": [
        "# Training the data and output for every epochs\n",
        "def train(dataset, epochs):\n",
        "  for epoch in range(epochs):\n",
        "    start = time.time()\n",
        "\n",
        "    for image_batch in dataset:\n",
        "      train_step(image_batch)\n",
        "\n",
        "    # Produce images for the GIF as you go\n",
        "    display.clear_output(wait=True)\n",
        "    generate_and_save_images(generator,\n",
        "                             epoch + 1,\n",
        "                             seed)\n",
        "\n",
        "    # Save the model every 15 epochs\n",
        "    if (epoch + 1) % 15 == 0:\n",
        "      checkpoint.save(file_prefix = checkpoint_prefix)\n",
        "\n",
        "    print ('Time for epoch {} is {} sec'.format(epoch + 1, time.time()-start))\n",
        "\n",
        "  # Generate after the final epoch\n",
        "  display.clear_output(wait=True)\n",
        "  generate_and_save_images(generator,\n",
        "                           epochs,\n",
        "                           seed)"
      ]
    },
    {
      "cell_type": "markdown",
      "metadata": {
        "id": "2aFF7Hk3XdeW"
      },
      "source": [
        "**Generate and save images**\n"
      ]
    },
    {
      "cell_type": "code",
      "execution_count": 39,
      "metadata": {
        "id": "RmdVsmvhPxyy"
      },
      "outputs": [],
      "source": [
        "def generate_and_save_images(model, epoch, test_input):\n",
        "  # Notice `training` is set to False.\n",
        "  # This is so all layers run in inference mode (batchnorm).\n",
        "  predictions = model(test_input, training=False)\n",
        "\n",
        "  fig = plt.figure(figsize=(4, 4))\n",
        "\n",
        "  for i in range(predictions.shape[0]):\n",
        "      plt.subplot(4, 4, i+1)\n",
        "      plt.imshow(predictions[i, :, :, 0] * 127.5 + 127.5, cmap='gray')\n",
        "      plt.axis('off')\n",
        "\n",
        "  plt.savefig('image_at_epoch_{:04d}.png'.format(epoch))\n",
        "  plt.show()"
      ]
    },
    {
      "cell_type": "markdown",
      "metadata": {
        "id": "dZrd4CdjR-Fp"
      },
      "source": [
        "## Train the model\n",
        "Call the `train()` method defined above to train the generator and discriminator simultaneously. Note, training GANs can be tricky. It's important that the generator and discriminator do not overpower each other (e.g., that they train at a similar rate).\n",
        "\n",
        "At the beginning of the training, the generated images look like random noise. As training progresses, the generated digits will look increasingly real. After about 50 epochs, they resemble MNIST digits. This may take about one minute / epoch with the default settings on Colab."
      ]
    },
    {
      "cell_type": "code",
      "execution_count": 41,
      "metadata": {
        "id": "Ly3UN0SLLY2l"
      },
      "outputs": [
        {
          "data": {
            "image/png": "[encoded data removed]",
            "text/plain": [
              "<Figure size 400x400 with 16 Axes>"
            ]
          },
          "metadata": {},
          "output_type": "display_data"
        },
        {
          "name": "stdout",
          "output_type": "stream",
          "text": [
            "Time for epoch 3 is 113.82910966873169 sec\n"
          ]
        }
      ],
      "source": [
        "# training the model\n",
        "train(train_dataset, EPOCHS)"
      ]
    },
    {
      "cell_type": "markdown",
      "metadata": {
        "id": "rfM4YcPVPkNO"
      },
      "source": [
        "Restore the latest checkpoint."
      ]
    },
    {
      "cell_type": "code",
      "execution_count": null,
      "metadata": {
        "id": "XhXsd0srPo8c"
      },
      "outputs": [],
      "source": [
        "checkpoint.restore(tf.train.latest_checkpoint(checkpoint_dir))"
      ]
    },
    {
      "cell_type": "markdown",
      "metadata": {
        "id": "P4M_vIbUi7c0"
      },
      "source": [
        "## Create a GIF\n"
      ]
    },
    {
      "cell_type": "code",
      "execution_count": null,
      "metadata": {
        "id": "WfO5wCdclHGL"
      },
      "outputs": [],
      "source": [
        "# Display a single image using the epoch number\n",
        "def display_image(epoch_no):\n",
        "  return PIL.Image.open('image_at_epoch_{:04d}.png'.format(epoch_no))"
      ]
    },
    {
      "cell_type": "code",
      "execution_count": null,
      "metadata": {
        "id": "5x3q9_Oe5q0A"
      },
      "outputs": [],
      "source": [
        "display_image(EPOCHS)"
      ]
    },
    {
      "cell_type": "markdown",
      "metadata": {
        "id": "NywiH3nL8guF"
      },
      "source": [
        "Use `imageio` to create an animated gif using the images saved during training."
      ]
    },
    {
      "cell_type": "code",
      "execution_count": null,
      "metadata": {
        "id": "IGKQgENQ8lEI"
      },
      "outputs": [],
      "source": [
        "anim_file = 'dcgan.gif'\n",
        "\n",
        "with imageio.get_writer(anim_file, mode='I') as writer:\n",
        "  filenames = glob.glob('image*.png')\n",
        "  filenames = sorted(filenames)\n",
        "  for filename in filenames:\n",
        "    image = imageio.imread(filename)\n",
        "    writer.append_data(image)\n",
        "  image = imageio.imread(filename)\n",
        "  writer.append_data(image)"
      ]
    },
    {
      "cell_type": "code",
      "execution_count": null,
      "metadata": {
        "id": "ZBwyU6t2Wf3g"
      },
      "outputs": [],
      "source": [
        "import tensorflow_docs.vis.embed as embed\n",
        "embed.embed_file(anim_file)"
      ]
    },
    {
      "cell_type": "markdown",
      "metadata": {
        "id": "k6qC-SbjK0yW"
      },
      "source": [
        "## Next steps\n"
      ]
    },
    {
      "cell_type": "markdown",
      "metadata": {
        "id": "xjjkT9KAK6H7"
      },
      "source": [
        "This tutorial has shown the complete code necessary to write and train a GAN. As a next step, you might like to experiment with a different dataset, for example the Large-scale Celeb Faces Attributes (CelebA) dataset [available on Kaggle](https://www.kaggle.com/jessicali9530/celeba-dataset). To learn more about GANs see the [NIPS 2016 Tutorial: Generative Adversarial Networks](https://arxiv.org/abs/1701.00160).\n"
      ]
    }
  ],
  "metadata": {
    "accelerator": "GPU",
    "colab": {
      "name": "dcgan.ipynb",
      "provenance": [],
      "toc_visible": true
    },
    "kernelspec": {
      "display_name": "Python 3",
      "name": "python3"
    },
    "language_info": {
      "codemirror_mode": {
        "name": "ipython",
        "version": 3
      },
      "file_extension": ".py",
      "mimetype": "text/x-python",
      "name": "python",
      "nbconvert_exporter": "python",
      "pygments_lexer": "ipython3",
      "version": "3.11.2"
    }
  },
  "nbformat": 4,
  "nbformat_minor": 0
}
